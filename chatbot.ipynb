{
  "nbformat": 4,
  "nbformat_minor": 0,
  "metadata": {
    "colab": {
      "provenance": [],
      "authorship_tag": "ABX9TyP6Bo/2pyxxjumE90kNbmtd",
      "include_colab_link": true
    },
    "kernelspec": {
      "name": "python3",
      "display_name": "Python 3"
    },
    "language_info": {
      "name": "python"
    }
  },
  "cells": [
    {
      "cell_type": "markdown",
      "metadata": {
        "id": "view-in-github",
        "colab_type": "text"
      },
      "source": [
        "<a href=\"https://colab.research.google.com/github/m-umamaheshwari/Chatbot---project-/blob/main/chatbot.ipynb\" target=\"_parent\"><img src=\"https://colab.research.google.com/assets/colab-badge.svg\" alt=\"Open In Colab\"/></a>"
      ]
    },
    {
      "cell_type": "code",
      "source": [
        "!pip install nltk"
      ],
      "metadata": {
        "colab": {
          "base_uri": "https://localhost:8080/"
        },
        "id": "RSaWazofMmIm",
        "outputId": "425f3585-0336-4818-978c-cd94ce636a47"
      },
      "execution_count": 3,
      "outputs": [
        {
          "output_type": "stream",
          "name": "stdout",
          "text": [
            "Requirement already satisfied: nltk in /usr/local/lib/python3.11/dist-packages (3.9.1)\n",
            "Requirement already satisfied: click in /usr/local/lib/python3.11/dist-packages (from nltk) (8.1.8)\n",
            "Requirement already satisfied: joblib in /usr/local/lib/python3.11/dist-packages (from nltk) (1.4.2)\n",
            "Requirement already satisfied: regex>=2021.8.3 in /usr/local/lib/python3.11/dist-packages (from nltk) (2024.11.6)\n",
            "Requirement already satisfied: tqdm in /usr/local/lib/python3.11/dist-packages (from nltk) (4.67.1)\n"
          ]
        }
      ]
    },
    {
      "cell_type": "code",
      "source": [
        "!pip install scikit-learn"
      ],
      "metadata": {
        "colab": {
          "base_uri": "https://localhost:8080/"
        },
        "id": "tFUmR5MpMvIT",
        "outputId": "f7ecf9ae-daf4-4594-87a6-94d5a77d83c2"
      },
      "execution_count": 7,
      "outputs": [
        {
          "output_type": "stream",
          "name": "stdout",
          "text": [
            "Requirement already satisfied: scikit-learn in /usr/local/lib/python3.11/dist-packages (1.6.1)\n",
            "Requirement already satisfied: numpy>=1.19.5 in /usr/local/lib/python3.11/dist-packages (from scikit-learn) (1.26.4)\n",
            "Requirement already satisfied: scipy>=1.6.0 in /usr/local/lib/python3.11/dist-packages (from scikit-learn) (1.13.1)\n",
            "Requirement already satisfied: joblib>=1.2.0 in /usr/local/lib/python3.11/dist-packages (from scikit-learn) (1.4.2)\n",
            "Requirement already satisfied: threadpoolctl>=3.1.0 in /usr/local/lib/python3.11/dist-packages (from scikit-learn) (3.5.0)\n"
          ]
        }
      ]
    },
    {
      "cell_type": "code",
      "source": [
        "\n",
        "import io\n",
        "import random\n",
        "import string # to process standard python strings\n",
        "import warnings\n",
        "import numpy as np\n",
        "from sklearn.feature_extraction.text import TfidfVectorizer\n",
        "from sklearn.metrics.pairwise import cosine_similarity\n",
        "import warnings\n",
        "warnings.filterwarnings('ignore')"
      ],
      "metadata": {
        "id": "bt1cARBuNUbN"
      },
      "execution_count": 8,
      "outputs": []
    },
    {
      "cell_type": "code",
      "source": [
        "\n",
        "import nltk\n",
        "from nltk.stem import WordNetLemmatizer\n",
        "nltk.download('popular', quiet=True) # for downloading packages\n",
        "#nltk.download('punkt') # first-time use only\n",
        "#nltk.download('wordnet') # first-time"
      ],
      "metadata": {
        "colab": {
          "base_uri": "https://localhost:8080/"
        },
        "id": "SAV-5G5fNb7c",
        "outputId": "d7cc5aff-18dc-404b-e037-3491f89a550b"
      },
      "execution_count": 9,
      "outputs": [
        {
          "output_type": "execute_result",
          "data": {
            "text/plain": [
              "True"
            ]
          },
          "metadata": {},
          "execution_count": 9
        }
      ]
    },
    {
      "cell_type": "code",
      "source": [
        "import nltk\n",
        "from nltk.stem import WordNetLemmatizer\n",
        "# Download the 'punkt_tab' data package\n",
        "nltk.download('punkt_tab')\n",
        "# Download other required packages\n",
        "nltk.download('popular', quiet=True)\n",
        "# nltk.download('punkt')  # This is already included in 'popular'\n",
        "# nltk.download('wordnet') # This is already included in 'popular'\n",
        "\n",
        "# ... rest of your code ...\n",
        "\n",
        "f = open('chatbot.txt', 'r', errors='ignore')\n",
        "raw = f.read()\n",
        "raw = raw.lower()  # converts to lowercase\n",
        "\n",
        "sentence_tokens = nltk.sent_tokenize(raw)\n",
        "word_tokens = nltk.word_tokenize(raw)\n",
        "\n",
        "[sentence_tokens[:2], word_tokens[:2]]"
      ],
      "metadata": {
        "colab": {
          "base_uri": "https://localhost:8080/"
        },
        "id": "-_eg5ZZQNhby",
        "outputId": "6fcdb103-e63c-424d-ed75-eaff1b45a5ba"
      },
      "execution_count": 10,
      "outputs": [
        {
          "output_type": "stream",
          "name": "stderr",
          "text": [
            "[nltk_data] Downloading package punkt_tab to /root/nltk_data...\n",
            "[nltk_data]   Unzipping tokenizers/punkt_tab.zip.\n"
          ]
        },
        {
          "output_type": "execute_result",
          "data": {
            "text/plain": [
              "[[\"user: how are you\\nbot: i'm just a chatbot, but thanks for asking!\",\n",
              "  \"user: tell me a joke\\nbot: why don't scientists trust atoms?\"],\n",
              " ['user', ':']]"
            ]
          },
          "metadata": {},
          "execution_count": 10
        }
      ]
    },
    {
      "cell_type": "code",
      "source": [
        "\n",
        "lemmer = nltk.stem.WordNetLemmatizer()\n",
        "\n",
        "remove_punct_dict = dict((ord(punct), None) for punct in string.punctuation)\n",
        "\n",
        "def lem_tokens(tokens):\n",
        "    return [lemmer.lemmatize(token) for token in tokens]\n",
        "\n",
        "def lem_normalize(text):\n",
        "    return lem_tokens(nltk.word_tokenize(text.lower().translate(remove_punct_dict)))"
      ],
      "metadata": {
        "id": "tsbVXraBNqN9"
      },
      "execution_count": 11,
      "outputs": []
    },
    {
      "cell_type": "code",
      "source": [
        "GREETING_INPUTS = ('hello', 'hi', 'greetings', 'sup', 'what\\'s up', 'hey',)\n",
        "GREETING_RESPONSES = ['hi', 'hey', '*nods*', 'hi there', 'hello', 'I am glad! You are talking to me']\n",
        "\n",
        "def greeting(sentence):\n",
        "    for word in sentence.split():\n",
        "        if word.lower() in GREETING_INPUTS:\n",
        "            return random.choice(GREETING_RESPONSES)"
      ],
      "metadata": {
        "id": "BhIt9hsFN4CP"
      },
      "execution_count": 12,
      "outputs": []
    },
    {
      "cell_type": "code",
      "source": [
        "\n",
        "from sklearn.feature_extraction.text import TfidfVectorizer\n",
        "from sklearn.metrics.pairwise import cosine_similarity\n",
        "\n",
        "\n",
        "def response(user_response):\n",
        "    robo_response = ''\n",
        "    sentence_tokens.append(user_response)\n",
        "\n",
        "    vectorizer = TfidfVectorizer(tokenizer=lem_normalize, stop_words='english')\n",
        "    tfidf = vectorizer.fit_transform(sentence_tokens)\n",
        "\n",
        "    values = cosine_similarity(tfidf[-1], tfidf)\n",
        "    idx = values.argsort()[0][-2]\n",
        "    flat = values.flatten()\n",
        "    flat.sort()\n",
        "    req_tfidf = flat[-2]\n",
        "\n",
        "    if req_tfidf is 0:\n",
        "        robo_response = '{} Sorry, I don\\'t understand you'.format(robo_response)\n",
        "    else:\n",
        "        robo_response = robo_response + sentence_tokens[idx]\n",
        "    return robo_response"
      ],
      "metadata": {
        "id": "Eo0ZsTHfN9-m"
      },
      "execution_count": 13,
      "outputs": []
    },
    {
      "cell_type": "code",
      "source": [
        "\n",
        "flag = True\n",
        "print('BOT: My name is Robo, I will answer your questions about chatbots. If you want to exit, type Bye')\n",
        "\n",
        "interactions = [\n",
        "    'hi',\n",
        "    'what is chatbot?',\n",
        "    'describe its design, please',\n",
        "    'what about alan turing?',\n",
        "    'and facebook?',\n",
        "    'sounds awesome',\n",
        "    'bye',\n",
        "]\n",
        "\n",
        "while flag:\n",
        "    user_response = interactions.pop(0)\n",
        "    print('USER: {}'.format(user_response))\n",
        "    if user_response is not 'bye':\n",
        "        if user_response is 'thanks' or user_response is 'thank you':\n",
        "            flag = False\n",
        "            print('BOT: You are welcome...')\n",
        "        else:\n",
        "            if greeting(user_response) is not None:\n",
        "                print('ROBO: {}'.format(greeting(user_response)))\n",
        "            else:\n",
        "                print('ROBO: ', end='')\n",
        "                print(response(user_response))\n",
        "                sentence_tokens.remove(user_response)\n",
        "    else:\n",
        "        flag = False\n",
        "        print('BOT:Good bye!')"
      ],
      "metadata": {
        "colab": {
          "base_uri": "https://localhost:8080/"
        },
        "id": "jdgDRctaOD4Y",
        "outputId": "8c7ef2e7-7f8a-47e6-eaf7-1b501af3732e"
      },
      "execution_count": 16,
      "outputs": [
        {
          "output_type": "stream",
          "name": "stdout",
          "text": [
            "BOT: My name is Robo, I will answer your questions about chatbots. If you want to exit, type Bye\n",
            "USER: hi\n",
            "ROBO: I am glad! You are talking to me\n",
            "USER: what is chatbot?\n",
            "ROBO: user: how are you\n",
            "bot: i'm just a chatbot, but thanks for asking!\n",
            "USER: describe its design, please\n",
            "ROBO: user: tell me about artificial intelligence\n",
            "bot: artificial intelligence (ai) is the simulation of human intelligence by machines.\n",
            "USER: what about alan turing?\n",
            "ROBO: user: tell me about artificial intelligence\n",
            "bot: artificial intelligence (ai) is the simulation of human intelligence by machines.\n",
            "USER: and facebook?\n",
            "ROBO: user: tell me about artificial intelligence\n",
            "bot: artificial intelligence (ai) is the simulation of human intelligence by machines.\n",
            "USER: sounds awesome\n",
            "ROBO: user: tell me a space fact\n",
            "bot: space is completely silent because there is no air to carry sound waves.\n",
            "USER: bye\n",
            "BOT:Good bye!\n"
          ]
        }
      ]
    },
    {
      "cell_type": "code",
      "source": [],
      "metadata": {
        "id": "VIAmtPf4OMV4"
      },
      "execution_count": null,
      "outputs": []
    }
  ]
}